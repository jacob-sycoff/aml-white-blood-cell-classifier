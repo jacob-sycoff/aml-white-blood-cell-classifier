{
 "cells": [
  {
   "cell_type": "markdown",
   "metadata": {
    "id": "SMBNVoLaXSSK"
   },
   "source": [
    "## Copy Images and Split them Into Train and Test Folders For Yolov5"
   ]
  },
  {
   "cell_type": "markdown",
   "metadata": {
    "id": "Dctyv62EXgTD"
   },
   "source": [
    "The format of Yolov5 is different than the format for the Keras models we used. Yolov5 needs to have images split into train and test folders without any class folders. So, all images are in one train folder and one test folder with no subfolders for classes as was the case for the Keras models (necessary for Keras model to use ImageDataGenerator and flow_from_directory). The images are recognized by their labels which are saved in txt files. For information on how we created the txt files, please look at the Yolov5 txt files notebook in this repository. We used this site as a reference for Yolov5 structure: https://towardsai.net/p/computer-vision/yolo-v5-object-detection-on-a-custom-dataset. More about the structure can be found online and described in the README.md. "
   ]
  },
  {
   "cell_type": "code",
   "execution_count": null,
   "metadata": {
    "colab": {
     "base_uri": "https://localhost:8080/"
    },
    "id": "UHLLxzNEWfQC",
    "outputId": "d8a26fe0-d261-4547-918f-a1ebfc9ceee8"
   },
   "outputs": [
    {
     "name": "stdout",
     "output_type": "stream",
     "text": [
      "Mounted at /content/gdrive\n"
     ]
    }
   ],
   "source": [
    "from google.colab import drive\n",
    "drive.mount('/content/gdrive')"
   ]
  },
  {
   "cell_type": "code",
   "execution_count": null,
   "metadata": {
    "id": "9_WfPNVXWkyg"
   },
   "outputs": [],
   "source": [
    "import os\n",
    "import numpy as np\n",
    "from collections import defaultdict\n",
    "import shutil\n",
    "import random\n",
    "import pandas as pd"
   ]
  },
  {
   "cell_type": "code",
   "execution_count": null,
   "metadata": {
    "id": "GeSAAWm5Wm52"
   },
   "outputs": [],
   "source": [
    "#file paths\n",
    "images_file_path = '/content/gdrive/MyDrive/yolo_data/AML_Cytomorphology/images' #these are the original images from TCIA. We copied orginal data made a yolo folder with data.\n",
    "labels_file_path = '/content/gdrive/MyDrive/yolo_data/AML_Cytomorphology/labels' \n",
    "train_images_path = '/content/gdrive/MyDrive/haley_yolo_split_data/images/train' #path for yolo train images\n",
    "test_images_path = '/content/gdrive/MyDrive/haley_yolo_split_data/images/test' #path for yolo test images\n",
    "train_labels_path = '/content/gdrive/MyDrive/haley_yolo_split_data/labels/train' #path for yolo train txt files\n",
    "test_labels_path = '/content/gdrive/MyDrive/haley_yolo_split_data/labels/test' #path for yolo test txt files"
   ]
  },
  {
   "cell_type": "code",
   "execution_count": null,
   "metadata": {
    "id": "zn8mdWBOXMZx"
   },
   "outputs": [],
   "source": [
    "#cell classes - intialize empty dictionary with list as option for values\n",
    "classes = defaultdict(list)"
   ]
  },
  {
   "cell_type": "code",
   "execution_count": null,
   "metadata": {
    "colab": {
     "base_uri": "https://localhost:8080/"
    },
    "id": "M8fQFSO6XVGC",
    "outputId": "89843876-e6ac-443a-8a9e-485aed62746a"
   },
   "outputs": [
    {
     "data": {
      "text/plain": [
       "18365"
      ]
     },
     "execution_count": 5,
     "metadata": {
      "tags": []
     },
     "output_type": "execute_result"
    }
   ],
   "source": [
    "# Create filepath names for all images\n",
    "file_paths = [os.path.join(images_file_path,file) for file in os.listdir(images_file_path)] #join file name with full path for copying purposes later\n",
    "len(file_paths) #check to see we have correct number of images to begin with"
   ]
  },
  {
   "cell_type": "code",
   "execution_count": null,
   "metadata": {
    "id": "lERmcX4WgSPe"
   },
   "outputs": [],
   "source": [
    "#Put images in the correct cell class lists in classes dictionary\n",
    "for file_path in file_paths:\n",
    "    cell_name = file_path.split(\"/\")[-1][:3] #get the cell name\n",
    "    classes[cell_name].append(file_path) #add the cell image path to the appropriate cell name key in the cell classes dictionary "
   ]
  },
  {
   "cell_type": "code",
   "execution_count": null,
   "metadata": {
    "colab": {
     "base_uri": "https://localhost:8080/"
    },
    "id": "1KGZR3UvdBJx",
    "outputId": "f914d5b5-caf8-4392-91cb-d998ec8fb3c7"
   },
   "outputs": [
    {
     "data": {
      "text/plain": [
       "dict_keys(['LYT', 'LYA', 'KSC', 'EOS', 'EBO', 'BAS', 'MON', 'MOB', 'MMZ', 'MYO', 'MYB', 'NGS', 'NGB', 'PMO', 'PMB'])"
      ]
     },
     "execution_count": 7,
     "metadata": {
      "tags": []
     },
     "output_type": "execute_result"
    }
   ],
   "source": [
    "classes.keys() #print cell classes dictionary keys "
   ]
  },
  {
   "cell_type": "code",
   "execution_count": null,
   "metadata": {
    "colab": {
     "base_uri": "https://localhost:8080/"
    },
    "id": "pZdy6XW2hEJb",
    "outputId": "0425f794-05ab-4cf0-8a23-e667452a1e92"
   },
   "outputs": [
    {
     "data": {
      "text/plain": [
       "18365"
      ]
     },
     "execution_count": 8,
     "metadata": {
      "tags": []
     },
     "output_type": "execute_result"
    }
   ],
   "source": [
    "#check number of images in dictionary to make sure there are 18,365. There are. \n",
    "total_dic_images = 0\n",
    "for key in classes.keys():\n",
    "    total_dic_images += len(classes[key])\n",
    "total_dic_images"
   ]
  },
  {
   "cell_type": "code",
   "execution_count": null,
   "metadata": {
    "id": "AB4ENdi4kCHY"
   },
   "outputs": [],
   "source": [
    "#Move 90% of each of the lists into a train folder and 10% into test folder unless there's less than 4 images in which case, we'll keep 4 for the test set and the rest for training.\n",
    "for cell_class in classes.keys():\n",
    "    class_sample = classes[cell_class] #all of the images within a cell class\n",
    "    random.shuffle(class_sample) # randomly shuffle the dictionary files\n",
    "    len_cell_class = len(class_sample) #number of images for the cell class\n",
    "    if len_cell_class >= 40:\n",
    "        num_train = int(np.round(0.9 * len_cell_class)) #num train images\n",
    "        train_paths = class_sample[0:num_train] #train images\n",
    "        test_paths = class_sample[num_train:] #test images\n",
    "        for file in train_paths:\n",
    "            shutil.copy(file, train_images_path) #copy train images to train images folder\n",
    "        for file in test_paths:\n",
    "            shutil.copy(file, test_images_path) #copy test images to test images folder\n",
    "    else:\n",
    "        num_train = len_cell_class - 4 #num train images\n",
    "        train_paths = class_sample[0:num_train] #train images\n",
    "        test_paths = class_sample[num_train:] #test images \n",
    "        for file in train_paths:\n",
    "            shutil.copy(file, train_images_path) #copy train images to train images folder\n",
    "        for file in test_paths:\n",
    "            shutil.copy(file, test_images_path) #copy test images to test images folder\n",
    "    "
   ]
  },
  {
   "cell_type": "code",
   "execution_count": null,
   "metadata": {
    "colab": {
     "base_uri": "https://localhost:8080/"
    },
    "id": "IVZ8sMVtrI1c",
    "outputId": "7d589022-42f8-4e6d-c620-5c994ed81af0"
   },
   "outputs": [
    {
     "name": "stdout",
     "output_type": "stream",
     "text": [
      "16517\n",
      "1848\n"
     ]
    }
   ],
   "source": [
    "#check to see the counts in training and test folders\n",
    "print(len(os.listdir(train_images_path)))\n",
    "print(len(os.listdir(test_images_path)))"
   ]
  },
  {
   "cell_type": "code",
   "execution_count": null,
   "metadata": {
    "id": "k21xsEOguElG"
   },
   "outputs": [],
   "source": [
    "#Look at breakdown of images in training set and test set by cell type \n",
    "train_dic = defaultdict(int)\n",
    "test_dic = defaultdict(int)\n",
    "for file in os.listdir(train_images_path):\n",
    "    train_dic[file[:3]] += 1 \n",
    "for file in os.listdir(test_images_path):\n",
    "    test_dic[file[:3]] +=1 "
   ]
  },
  {
   "cell_type": "code",
   "execution_count": null,
   "metadata": {
    "colab": {
     "base_uri": "https://localhost:8080/"
    },
    "id": "hjmZ0GwEvI7a",
    "outputId": "6816e4e3-0898-4474-d8cc-8e47c2aad967"
   },
   "outputs": [
    {
     "name": "stdout",
     "output_type": "stream",
     "text": [
      "defaultdict(<class 'int'>, {'LYT': 3543, 'LYA': 7, 'KSC': 11, 'EOS': 382, 'EBO': 70, 'BAS': 71, 'MON': 1610, 'MOB': 22, 'MMZ': 11, 'MYO': 2941, 'MYB': 38, 'NGS': 7636, 'NGB': 98, 'PMO': 63, 'PMB': 14})\n",
      "defaultdict(<class 'int'>, {'LYT': 394, 'LYA': 4, 'KSC': 4, 'EOS': 42, 'EBO': 8, 'BAS': 8, 'MON': 179, 'MOB': 4, 'MMZ': 4, 'MYO': 327, 'MYB': 4, 'NGS': 848, 'NGB': 11, 'PMO': 7, 'PMB': 4})\n"
     ]
    }
   ],
   "source": [
    "print(train_dic)\n",
    "print(test_dic)"
   ]
  },
  {
   "cell_type": "code",
   "execution_count": null,
   "metadata": {
    "id": "7n7uWurq30L-"
   },
   "outputs": [],
   "source": [
    "data = {'Cell Type': train_dic.keys(),\n",
    "        'Train': train_dic.values(),\n",
    "      'Test': test_dic.values()}"
   ]
  },
  {
   "cell_type": "code",
   "execution_count": null,
   "metadata": {
    "colab": {
     "base_uri": "https://localhost:8080/",
     "height": 514
    },
    "id": "jmghNPwo5S77",
    "outputId": "d51d81a4-64c1-4260-8c2b-b826387e4586"
   },
   "outputs": [
    {
     "data": {
      "text/html": [
       "<div>\n",
       "<style scoped>\n",
       "    .dataframe tbody tr th:only-of-type {\n",
       "        vertical-align: middle;\n",
       "    }\n",
       "\n",
       "    .dataframe tbody tr th {\n",
       "        vertical-align: top;\n",
       "    }\n",
       "\n",
       "    .dataframe thead th {\n",
       "        text-align: right;\n",
       "    }\n",
       "</style>\n",
       "<table border=\"1\" class=\"dataframe\">\n",
       "  <thead>\n",
       "    <tr style=\"text-align: right;\">\n",
       "      <th></th>\n",
       "      <th>Cell Type</th>\n",
       "      <th>Train</th>\n",
       "      <th>Test</th>\n",
       "    </tr>\n",
       "  </thead>\n",
       "  <tbody>\n",
       "    <tr>\n",
       "      <th>0</th>\n",
       "      <td>NGS</td>\n",
       "      <td>7636</td>\n",
       "      <td>848</td>\n",
       "    </tr>\n",
       "    <tr>\n",
       "      <th>1</th>\n",
       "      <td>LYT</td>\n",
       "      <td>3543</td>\n",
       "      <td>394</td>\n",
       "    </tr>\n",
       "    <tr>\n",
       "      <th>2</th>\n",
       "      <td>MYO</td>\n",
       "      <td>2941</td>\n",
       "      <td>327</td>\n",
       "    </tr>\n",
       "    <tr>\n",
       "      <th>3</th>\n",
       "      <td>MON</td>\n",
       "      <td>1610</td>\n",
       "      <td>179</td>\n",
       "    </tr>\n",
       "    <tr>\n",
       "      <th>4</th>\n",
       "      <td>EOS</td>\n",
       "      <td>382</td>\n",
       "      <td>42</td>\n",
       "    </tr>\n",
       "    <tr>\n",
       "      <th>5</th>\n",
       "      <td>NGB</td>\n",
       "      <td>98</td>\n",
       "      <td>11</td>\n",
       "    </tr>\n",
       "    <tr>\n",
       "      <th>6</th>\n",
       "      <td>BAS</td>\n",
       "      <td>71</td>\n",
       "      <td>8</td>\n",
       "    </tr>\n",
       "    <tr>\n",
       "      <th>7</th>\n",
       "      <td>EBO</td>\n",
       "      <td>70</td>\n",
       "      <td>8</td>\n",
       "    </tr>\n",
       "    <tr>\n",
       "      <th>8</th>\n",
       "      <td>PMO</td>\n",
       "      <td>63</td>\n",
       "      <td>7</td>\n",
       "    </tr>\n",
       "    <tr>\n",
       "      <th>9</th>\n",
       "      <td>MYB</td>\n",
       "      <td>38</td>\n",
       "      <td>4</td>\n",
       "    </tr>\n",
       "    <tr>\n",
       "      <th>10</th>\n",
       "      <td>MOB</td>\n",
       "      <td>22</td>\n",
       "      <td>4</td>\n",
       "    </tr>\n",
       "    <tr>\n",
       "      <th>11</th>\n",
       "      <td>PMB</td>\n",
       "      <td>14</td>\n",
       "      <td>4</td>\n",
       "    </tr>\n",
       "    <tr>\n",
       "      <th>12</th>\n",
       "      <td>KSC</td>\n",
       "      <td>11</td>\n",
       "      <td>4</td>\n",
       "    </tr>\n",
       "    <tr>\n",
       "      <th>13</th>\n",
       "      <td>MMZ</td>\n",
       "      <td>11</td>\n",
       "      <td>4</td>\n",
       "    </tr>\n",
       "    <tr>\n",
       "      <th>14</th>\n",
       "      <td>LYA</td>\n",
       "      <td>7</td>\n",
       "      <td>4</td>\n",
       "    </tr>\n",
       "  </tbody>\n",
       "</table>\n",
       "</div>"
      ],
      "text/plain": [
       "   Cell Type  Train  Test\n",
       "0        NGS   7636   848\n",
       "1        LYT   3543   394\n",
       "2        MYO   2941   327\n",
       "3        MON   1610   179\n",
       "4        EOS    382    42\n",
       "5        NGB     98    11\n",
       "6        BAS     71     8\n",
       "7        EBO     70     8\n",
       "8        PMO     63     7\n",
       "9        MYB     38     4\n",
       "10       MOB     22     4\n",
       "11       PMB     14     4\n",
       "12       KSC     11     4\n",
       "13       MMZ     11     4\n",
       "14       LYA      7     4"
      ]
     },
     "execution_count": 37,
     "metadata": {
      "tags": []
     },
     "output_type": "execute_result"
    }
   ],
   "source": [
    "df = pd.DataFrame(data)\n",
    "df.sort_values('Train', inplace = True, ascending = False, ignore_index = True)\n",
    "df"
   ]
  },
  {
   "cell_type": "code",
   "execution_count": null,
   "metadata": {
    "colab": {
     "base_uri": "https://localhost:8080/",
     "height": 514
    },
    "id": "z6M5sgJJ6Ark",
    "outputId": "50878597-ccab-4c08-87fc-7d618e9aa823"
   },
   "outputs": [
    {
     "data": {
      "text/html": [
       "<div>\n",
       "<style scoped>\n",
       "    .dataframe tbody tr th:only-of-type {\n",
       "        vertical-align: middle;\n",
       "    }\n",
       "\n",
       "    .dataframe tbody tr th {\n",
       "        vertical-align: top;\n",
       "    }\n",
       "\n",
       "    .dataframe thead th {\n",
       "        text-align: right;\n",
       "    }\n",
       "</style>\n",
       "<table border=\"1\" class=\"dataframe\">\n",
       "  <thead>\n",
       "    <tr style=\"text-align: right;\">\n",
       "      <th></th>\n",
       "      <th>Cell Type</th>\n",
       "      <th>Train</th>\n",
       "      <th>Test</th>\n",
       "      <th>Total</th>\n",
       "    </tr>\n",
       "  </thead>\n",
       "  <tbody>\n",
       "    <tr>\n",
       "      <th>0</th>\n",
       "      <td>NGS</td>\n",
       "      <td>7636</td>\n",
       "      <td>848</td>\n",
       "      <td>8484</td>\n",
       "    </tr>\n",
       "    <tr>\n",
       "      <th>1</th>\n",
       "      <td>LYT</td>\n",
       "      <td>3543</td>\n",
       "      <td>394</td>\n",
       "      <td>3937</td>\n",
       "    </tr>\n",
       "    <tr>\n",
       "      <th>2</th>\n",
       "      <td>MYO</td>\n",
       "      <td>2941</td>\n",
       "      <td>327</td>\n",
       "      <td>3268</td>\n",
       "    </tr>\n",
       "    <tr>\n",
       "      <th>3</th>\n",
       "      <td>MON</td>\n",
       "      <td>1610</td>\n",
       "      <td>179</td>\n",
       "      <td>1789</td>\n",
       "    </tr>\n",
       "    <tr>\n",
       "      <th>4</th>\n",
       "      <td>EOS</td>\n",
       "      <td>382</td>\n",
       "      <td>42</td>\n",
       "      <td>424</td>\n",
       "    </tr>\n",
       "    <tr>\n",
       "      <th>5</th>\n",
       "      <td>NGB</td>\n",
       "      <td>98</td>\n",
       "      <td>11</td>\n",
       "      <td>109</td>\n",
       "    </tr>\n",
       "    <tr>\n",
       "      <th>6</th>\n",
       "      <td>BAS</td>\n",
       "      <td>71</td>\n",
       "      <td>8</td>\n",
       "      <td>79</td>\n",
       "    </tr>\n",
       "    <tr>\n",
       "      <th>7</th>\n",
       "      <td>EBO</td>\n",
       "      <td>70</td>\n",
       "      <td>8</td>\n",
       "      <td>78</td>\n",
       "    </tr>\n",
       "    <tr>\n",
       "      <th>8</th>\n",
       "      <td>PMO</td>\n",
       "      <td>63</td>\n",
       "      <td>7</td>\n",
       "      <td>70</td>\n",
       "    </tr>\n",
       "    <tr>\n",
       "      <th>9</th>\n",
       "      <td>MYB</td>\n",
       "      <td>38</td>\n",
       "      <td>4</td>\n",
       "      <td>42</td>\n",
       "    </tr>\n",
       "    <tr>\n",
       "      <th>10</th>\n",
       "      <td>MOB</td>\n",
       "      <td>22</td>\n",
       "      <td>4</td>\n",
       "      <td>26</td>\n",
       "    </tr>\n",
       "    <tr>\n",
       "      <th>11</th>\n",
       "      <td>PMB</td>\n",
       "      <td>14</td>\n",
       "      <td>4</td>\n",
       "      <td>18</td>\n",
       "    </tr>\n",
       "    <tr>\n",
       "      <th>12</th>\n",
       "      <td>KSC</td>\n",
       "      <td>11</td>\n",
       "      <td>4</td>\n",
       "      <td>15</td>\n",
       "    </tr>\n",
       "    <tr>\n",
       "      <th>13</th>\n",
       "      <td>MMZ</td>\n",
       "      <td>11</td>\n",
       "      <td>4</td>\n",
       "      <td>15</td>\n",
       "    </tr>\n",
       "    <tr>\n",
       "      <th>14</th>\n",
       "      <td>LYA</td>\n",
       "      <td>7</td>\n",
       "      <td>4</td>\n",
       "      <td>11</td>\n",
       "    </tr>\n",
       "  </tbody>\n",
       "</table>\n",
       "</div>"
      ],
      "text/plain": [
       "   Cell Type  Train  Test  Total\n",
       "0        NGS   7636   848   8484\n",
       "1        LYT   3543   394   3937\n",
       "2        MYO   2941   327   3268\n",
       "3        MON   1610   179   1789\n",
       "4        EOS    382    42    424\n",
       "5        NGB     98    11    109\n",
       "6        BAS     71     8     79\n",
       "7        EBO     70     8     78\n",
       "8        PMO     63     7     70\n",
       "9        MYB     38     4     42\n",
       "10       MOB     22     4     26\n",
       "11       PMB     14     4     18\n",
       "12       KSC     11     4     15\n",
       "13       MMZ     11     4     15\n",
       "14       LYA      7     4     11"
      ]
     },
     "execution_count": 38,
     "metadata": {
      "tags": []
     },
     "output_type": "execute_result"
    }
   ],
   "source": [
    "df['Total'] = df['Train'] + df['Test']\n",
    "df"
   ]
  },
  {
   "cell_type": "code",
   "execution_count": null,
   "metadata": {
    "colab": {
     "base_uri": "https://localhost:8080/"
    },
    "id": "Zo3M3nBN6gn3",
    "outputId": "0d6b8868-ed6b-4566-fc9d-6bdd156cec3b"
   },
   "outputs": [
    {
     "data": {
      "text/plain": [
       "18365"
      ]
     },
     "execution_count": 39,
     "metadata": {
      "tags": []
     },
     "output_type": "execute_result"
    }
   ],
   "source": [
    "total = sum(df['Total'])\n",
    "total"
   ]
  }
 ],
 "metadata": {
  "colab": {
   "name": "yolo_split.ipynb",
   "provenance": []
  },
  "kernelspec": {
   "display_name": "Python 3",
   "language": "python",
   "name": "python3"
  },
  "language_info": {
   "codemirror_mode": {
    "name": "ipython",
    "version": 3
   },
   "file_extension": ".py",
   "mimetype": "text/x-python",
   "name": "python",
   "nbconvert_exporter": "python",
   "pygments_lexer": "ipython3",
   "version": "3.7.6"
  }
 },
 "nbformat": 4,
 "nbformat_minor": 1
}
