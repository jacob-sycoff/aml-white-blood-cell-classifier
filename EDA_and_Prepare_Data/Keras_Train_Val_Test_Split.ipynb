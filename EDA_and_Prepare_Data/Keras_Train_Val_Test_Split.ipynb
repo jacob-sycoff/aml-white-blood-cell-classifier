{
  "nbformat": 4,
  "nbformat_minor": 0,
  "metadata": {
    "colab": {
      "name": "AML_Split_Folders.ipynb",
      "provenance": [],
      "collapsed_sections": []
    },
    "kernelspec": {
      "name": "python3",
      "display_name": "Python 3"
    },
    "language_info": {
      "name": "python"
    }
  },
  "cells": [
    {
      "cell_type": "markdown",
      "metadata": {
        "id": "PaTjzZuvUbba"
      },
      "source": [
        "# Splitting Data into Train, Validation, and Test Sets"
      ]
    },
    {
      "cell_type": "markdown",
      "metadata": {
        "id": "tXGEqiWIUhU6"
      },
      "source": [
        "We did this by using a library called splitfolders. Splitfolders allows us to copy the images from one data path and paste them into another file path into respective train, validation, and test folders. It splits the data by class based on the folder name the images are in. Thus, each cell type has about an even 0.8,0.1,0.1 split. This libaray worked well with the file structure we had with each folder containing a certain cell class type. More on this library can be found here: https://pypi.org/project/split-folders/"
      ]
    },
    {
      "cell_type": "code",
      "metadata": {
        "id": "9IVo457BS-6n",
        "colab": {
          "base_uri": "https://localhost:8080/"
        },
        "outputId": "d27fc850-6baa-42f4-f86f-877e0cf1c74d"
      },
      "source": [
        "#Mount to Google Drive - this step is not necessary if you do not save the data to Google Drive. \n",
        "from google.colab import drive\n",
        "drive.mount('/content/gdrive')"
      ],
      "execution_count": null,
      "outputs": [
        {
          "output_type": "stream",
          "text": [
            "Drive already mounted at /content/gdrive; to attempt to forcibly remount, call drive.mount(\"/content/gdrive\", force_remount=True).\n"
          ],
          "name": "stdout"
        }
      ]
    },
    {
      "cell_type": "code",
      "metadata": {
        "colab": {
          "base_uri": "https://localhost:8080/"
        },
        "id": "rhmFdOzTSN6G",
        "outputId": "773a83c0-5d67-4d50-ca1e-81ebc8dc3958"
      },
      "source": [
        "#Install libaries necessary to split folders that are in our file structure\n",
        "!pip install split-folders\n",
        "!pip install split-folders tqdm"
      ],
      "execution_count": null,
      "outputs": [
        {
          "output_type": "stream",
          "text": [
            "Requirement already satisfied: split-folders in /usr/local/lib/python3.7/dist-packages (0.4.3)\n",
            "Requirement already satisfied: split-folders in /usr/local/lib/python3.7/dist-packages (0.4.3)\n",
            "Requirement already satisfied: tqdm in /usr/local/lib/python3.7/dist-packages (4.41.1)\n"
          ],
          "name": "stdout"
        }
      ]
    },
    {
      "cell_type": "code",
      "metadata": {
        "id": "rOnK_rSXSRT0"
      },
      "source": [
        "#Import the needed library\n",
        "import splitfolders "
      ],
      "execution_count": null,
      "outputs": []
    },
    {
      "cell_type": "code",
      "metadata": {
        "id": "o_nEvWZPT3QI"
      },
      "source": [
        "data_path = '/content/gdrive/MyDrive/PKG_AML_Cytomorphology/AML_Cytomorphology' #filepath where all of our images are stored\n",
        "data_output_path = '/content/gdrive/MyDrive/210_data' #filepath where we want to save copied images"
      ],
      "execution_count": null,
      "outputs": []
    },
    {
      "cell_type": "code",
      "metadata": {
        "id": "OmhNMUBTZnVJ",
        "colab": {
          "base_uri": "https://localhost:8080/"
        },
        "outputId": "11505894-0790-4afa-e7b7-6e9d53d89979"
      },
      "source": [
        "#split the data using an 80, 10, 10 split (train, val, test) and save copied images to data_output_path\n",
        "splitfolders.ratio(data_path, output= data_output_path, seed=1337, ratio=(.8, 0.1,0.1))"
      ],
      "execution_count": null,
      "outputs": [
        {
          "output_type": "stream",
          "text": [
            "Copying files: 18365 files [2:04:45,  2.45 files/s]\n"
          ],
          "name": "stderr"
        }
      ]
    }
  ]
}